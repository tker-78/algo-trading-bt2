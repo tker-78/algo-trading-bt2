{
 "cells": [
  {
   "cell_type": "code",
   "id": "initial_id",
   "metadata": {
    "collapsed": true,
    "ExecuteTime": {
     "end_time": "2025-05-17T15:53:46.861184Z",
     "start_time": "2025-05-17T15:53:46.777361Z"
    }
   },
   "source": [
    "from utils.loaddata import load_csv\n",
    "import os\n",
    "filepath = os.path.join(\"data\", \"USDJPY60.csv\")\n",
    "\n",
    "df = load_csv(filepath)"
   ],
   "outputs": [],
   "execution_count": 2
  },
  {
   "metadata": {
    "ExecuteTime": {
     "end_time": "2025-05-17T15:53:48.250533Z",
     "start_time": "2025-05-17T15:53:48.234785Z"
    }
   },
   "cell_type": "code",
   "source": "df.head(5)",
   "id": "27c70e7ce7c3d92d",
   "outputs": [
    {
     "data": {
      "text/plain": [
       "           datetime    open    high     low   close  volume\n",
       "0  2009-01-20 14:00  90.450  90.585  90.145  90.160   26234\n",
       "1  2009-01-20 15:00  90.165  90.175  90.045  90.135   30800\n",
       "2  2009-01-20 16:00  90.145  90.250  89.990  90.200   30626\n",
       "3  2009-01-20 17:00  90.200  90.250  89.825  90.115   30172\n",
       "4  2009-01-20 18:00  90.110  90.155  89.970  89.970   26322"
      ],
      "text/html": [
       "<div>\n",
       "<style scoped>\n",
       "    .dataframe tbody tr th:only-of-type {\n",
       "        vertical-align: middle;\n",
       "    }\n",
       "\n",
       "    .dataframe tbody tr th {\n",
       "        vertical-align: top;\n",
       "    }\n",
       "\n",
       "    .dataframe thead th {\n",
       "        text-align: right;\n",
       "    }\n",
       "</style>\n",
       "<table border=\"1\" class=\"dataframe\">\n",
       "  <thead>\n",
       "    <tr style=\"text-align: right;\">\n",
       "      <th></th>\n",
       "      <th>datetime</th>\n",
       "      <th>open</th>\n",
       "      <th>high</th>\n",
       "      <th>low</th>\n",
       "      <th>close</th>\n",
       "      <th>volume</th>\n",
       "    </tr>\n",
       "  </thead>\n",
       "  <tbody>\n",
       "    <tr>\n",
       "      <th>0</th>\n",
       "      <td>2009-01-20 14:00</td>\n",
       "      <td>90.450</td>\n",
       "      <td>90.585</td>\n",
       "      <td>90.145</td>\n",
       "      <td>90.160</td>\n",
       "      <td>26234</td>\n",
       "    </tr>\n",
       "    <tr>\n",
       "      <th>1</th>\n",
       "      <td>2009-01-20 15:00</td>\n",
       "      <td>90.165</td>\n",
       "      <td>90.175</td>\n",
       "      <td>90.045</td>\n",
       "      <td>90.135</td>\n",
       "      <td>30800</td>\n",
       "    </tr>\n",
       "    <tr>\n",
       "      <th>2</th>\n",
       "      <td>2009-01-20 16:00</td>\n",
       "      <td>90.145</td>\n",
       "      <td>90.250</td>\n",
       "      <td>89.990</td>\n",
       "      <td>90.200</td>\n",
       "      <td>30626</td>\n",
       "    </tr>\n",
       "    <tr>\n",
       "      <th>3</th>\n",
       "      <td>2009-01-20 17:00</td>\n",
       "      <td>90.200</td>\n",
       "      <td>90.250</td>\n",
       "      <td>89.825</td>\n",
       "      <td>90.115</td>\n",
       "      <td>30172</td>\n",
       "    </tr>\n",
       "    <tr>\n",
       "      <th>4</th>\n",
       "      <td>2009-01-20 18:00</td>\n",
       "      <td>90.110</td>\n",
       "      <td>90.155</td>\n",
       "      <td>89.970</td>\n",
       "      <td>89.970</td>\n",
       "      <td>26322</td>\n",
       "    </tr>\n",
       "  </tbody>\n",
       "</table>\n",
       "</div>"
      ]
     },
     "execution_count": 3,
     "metadata": {},
     "output_type": "execute_result"
    }
   ],
   "execution_count": 3
  },
  {
   "metadata": {
    "ExecuteTime": {
     "end_time": "2025-05-17T15:53:50.237846Z",
     "start_time": "2025-05-17T15:53:50.232138Z"
    }
   },
   "cell_type": "code",
   "source": [
    "import utils.indicator as ind\n",
    "sma = ind.SMA(df.head(100).close)"
   ],
   "id": "385a0e84a4c150be",
   "outputs": [],
   "execution_count": 4
  },
  {
   "metadata": {
    "ExecuteTime": {
     "end_time": "2025-05-17T15:54:01.528883Z",
     "start_time": "2025-05-17T15:54:01.522026Z"
    }
   },
   "cell_type": "code",
   "source": "sma.out_real",
   "id": "ecb3be8a760c0579",
   "outputs": [
    {
     "data": {
      "text/plain": [
       "0          NaN\n",
       "1          NaN\n",
       "2          NaN\n",
       "3          NaN\n",
       "4          NaN\n",
       "        ...   \n",
       "95    88.95775\n",
       "96    88.97325\n",
       "97    89.01450\n",
       "98    89.03550\n",
       "99    89.05125\n",
       "Length: 100, dtype: float64"
      ]
     },
     "execution_count": 6,
     "metadata": {},
     "output_type": "execute_result"
    }
   ],
   "execution_count": 6
  },
  {
   "metadata": {
    "ExecuteTime": {
     "end_time": "2025-05-18T09:25:14.643744Z",
     "start_time": "2025-05-18T09:25:14.631407Z"
    }
   },
   "cell_type": "code",
   "source": [
    "filepath = \"data/test_data.csv\"\n",
    "with open(filepath, \"r\") as f:\n",
    "    print(len(f.readlines()))"
   ],
   "id": "5cc371998624a683",
   "outputs": [
    {
     "name": "stdout",
     "output_type": "stream",
     "text": [
      "5900\n"
     ]
    }
   ],
   "execution_count": 10
  },
  {
   "metadata": {
    "ExecuteTime": {
     "end_time": "2025-05-18T09:44:42.559399Z",
     "start_time": "2025-05-18T09:44:42.102916Z"
    }
   },
   "cell_type": "code",
   "source": "from models.rule import SMAGolden",
   "id": "ee04b2765ce112a8",
   "outputs": [],
   "execution_count": 1
  },
  {
   "metadata": {
    "ExecuteTime": {
     "end_time": "2025-05-18T09:45:17.145135Z",
     "start_time": "2025-05-18T09:45:17.121133Z"
    }
   },
   "cell_type": "code",
   "source": "rule_smag = SMAGolden(\"data/test_data.csv\", 3, 10)",
   "id": "1a7094c4e36bde4a",
   "outputs": [],
   "execution_count": 2
  },
  {
   "metadata": {
    "ExecuteTime": {
     "end_time": "2025-05-18T09:45:27.655041Z",
     "start_time": "2025-05-18T09:45:27.640476Z"
    }
   },
   "cell_type": "code",
   "source": "rule_smag.data",
   "id": "6a23363f7572e93c",
   "outputs": [
    {
     "data": {
      "text/plain": [
       "              datetime     open     high      low    close  volume\n",
       "0     2024-03-04 02:00  150.126  150.186  150.098  150.175    6664\n",
       "1     2024-03-04 03:00  150.171  150.193  150.110  150.160    9836\n",
       "2     2024-03-04 04:00  150.159  150.265  150.139  150.253    7353\n",
       "3     2024-03-04 05:00  150.253  150.320  150.220  150.302    8122\n",
       "4     2024-03-04 06:00  150.302  150.386  150.268  150.358    4644\n",
       "...                ...      ...      ...      ...      ...     ...\n",
       "5895  2025-02-12 07:00  153.587  153.683  153.413  153.677   11563\n",
       "5896  2025-02-12 08:00  153.680  153.886  153.500  153.551   13978\n",
       "5897  2025-02-12 09:00  153.555  153.592  153.411  153.517    9371\n",
       "5898  2025-02-12 10:00  153.516  153.695  153.490  153.581    8989\n",
       "5899  2025-02-12 11:00  153.583  153.634  153.459  153.552    6781\n",
       "\n",
       "[5900 rows x 6 columns]"
      ],
      "text/html": [
       "<div>\n",
       "<style scoped>\n",
       "    .dataframe tbody tr th:only-of-type {\n",
       "        vertical-align: middle;\n",
       "    }\n",
       "\n",
       "    .dataframe tbody tr th {\n",
       "        vertical-align: top;\n",
       "    }\n",
       "\n",
       "    .dataframe thead th {\n",
       "        text-align: right;\n",
       "    }\n",
       "</style>\n",
       "<table border=\"1\" class=\"dataframe\">\n",
       "  <thead>\n",
       "    <tr style=\"text-align: right;\">\n",
       "      <th></th>\n",
       "      <th>datetime</th>\n",
       "      <th>open</th>\n",
       "      <th>high</th>\n",
       "      <th>low</th>\n",
       "      <th>close</th>\n",
       "      <th>volume</th>\n",
       "    </tr>\n",
       "  </thead>\n",
       "  <tbody>\n",
       "    <tr>\n",
       "      <th>0</th>\n",
       "      <td>2024-03-04 02:00</td>\n",
       "      <td>150.126</td>\n",
       "      <td>150.186</td>\n",
       "      <td>150.098</td>\n",
       "      <td>150.175</td>\n",
       "      <td>6664</td>\n",
       "    </tr>\n",
       "    <tr>\n",
       "      <th>1</th>\n",
       "      <td>2024-03-04 03:00</td>\n",
       "      <td>150.171</td>\n",
       "      <td>150.193</td>\n",
       "      <td>150.110</td>\n",
       "      <td>150.160</td>\n",
       "      <td>9836</td>\n",
       "    </tr>\n",
       "    <tr>\n",
       "      <th>2</th>\n",
       "      <td>2024-03-04 04:00</td>\n",
       "      <td>150.159</td>\n",
       "      <td>150.265</td>\n",
       "      <td>150.139</td>\n",
       "      <td>150.253</td>\n",
       "      <td>7353</td>\n",
       "    </tr>\n",
       "    <tr>\n",
       "      <th>3</th>\n",
       "      <td>2024-03-04 05:00</td>\n",
       "      <td>150.253</td>\n",
       "      <td>150.320</td>\n",
       "      <td>150.220</td>\n",
       "      <td>150.302</td>\n",
       "      <td>8122</td>\n",
       "    </tr>\n",
       "    <tr>\n",
       "      <th>4</th>\n",
       "      <td>2024-03-04 06:00</td>\n",
       "      <td>150.302</td>\n",
       "      <td>150.386</td>\n",
       "      <td>150.268</td>\n",
       "      <td>150.358</td>\n",
       "      <td>4644</td>\n",
       "    </tr>\n",
       "    <tr>\n",
       "      <th>...</th>\n",
       "      <td>...</td>\n",
       "      <td>...</td>\n",
       "      <td>...</td>\n",
       "      <td>...</td>\n",
       "      <td>...</td>\n",
       "      <td>...</td>\n",
       "    </tr>\n",
       "    <tr>\n",
       "      <th>5895</th>\n",
       "      <td>2025-02-12 07:00</td>\n",
       "      <td>153.587</td>\n",
       "      <td>153.683</td>\n",
       "      <td>153.413</td>\n",
       "      <td>153.677</td>\n",
       "      <td>11563</td>\n",
       "    </tr>\n",
       "    <tr>\n",
       "      <th>5896</th>\n",
       "      <td>2025-02-12 08:00</td>\n",
       "      <td>153.680</td>\n",
       "      <td>153.886</td>\n",
       "      <td>153.500</td>\n",
       "      <td>153.551</td>\n",
       "      <td>13978</td>\n",
       "    </tr>\n",
       "    <tr>\n",
       "      <th>5897</th>\n",
       "      <td>2025-02-12 09:00</td>\n",
       "      <td>153.555</td>\n",
       "      <td>153.592</td>\n",
       "      <td>153.411</td>\n",
       "      <td>153.517</td>\n",
       "      <td>9371</td>\n",
       "    </tr>\n",
       "    <tr>\n",
       "      <th>5898</th>\n",
       "      <td>2025-02-12 10:00</td>\n",
       "      <td>153.516</td>\n",
       "      <td>153.695</td>\n",
       "      <td>153.490</td>\n",
       "      <td>153.581</td>\n",
       "      <td>8989</td>\n",
       "    </tr>\n",
       "    <tr>\n",
       "      <th>5899</th>\n",
       "      <td>2025-02-12 11:00</td>\n",
       "      <td>153.583</td>\n",
       "      <td>153.634</td>\n",
       "      <td>153.459</td>\n",
       "      <td>153.552</td>\n",
       "      <td>6781</td>\n",
       "    </tr>\n",
       "  </tbody>\n",
       "</table>\n",
       "<p>5900 rows × 6 columns</p>\n",
       "</div>"
      ]
     },
     "execution_count": 3,
     "metadata": {},
     "output_type": "execute_result"
    }
   ],
   "execution_count": 3
  },
  {
   "metadata": {
    "ExecuteTime": {
     "end_time": "2025-05-18T09:48:08.541038Z",
     "start_time": "2025-05-18T09:48:08.536965Z"
    }
   },
   "cell_type": "code",
   "source": "rule_smag.data.loc[0].open",
   "id": "645b652e20d7a0e8",
   "outputs": [
    {
     "data": {
      "text/plain": [
       "np.float64(150.126)"
      ]
     },
     "execution_count": 6,
     "metadata": {},
     "output_type": "execute_result"
    }
   ],
   "execution_count": 6
  },
  {
   "metadata": {},
   "cell_type": "code",
   "outputs": [],
   "execution_count": null,
   "source": [
    "for i in len(rule_smag.data)-1:\n",
    "    if sma1[i] <= sma2[i] && sma1[i+1] > sma2[i+1]:\n",
    "        ...\n"
   ],
   "id": "aa5f0a7679bb22a2"
  }
 ],
 "metadata": {
  "kernelspec": {
   "display_name": "Python 3",
   "language": "python",
   "name": "python3"
  },
  "language_info": {
   "codemirror_mode": {
    "name": "ipython",
    "version": 2
   },
   "file_extension": ".py",
   "mimetype": "text/x-python",
   "name": "python",
   "nbconvert_exporter": "python",
   "pygments_lexer": "ipython2",
   "version": "2.7.6"
  }
 },
 "nbformat": 4,
 "nbformat_minor": 5
}
