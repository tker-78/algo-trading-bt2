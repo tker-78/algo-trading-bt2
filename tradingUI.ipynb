{
 "cells": [
  {
   "cell_type": "code",
   "id": "initial_id",
   "metadata": {
    "collapsed": true,
    "ExecuteTime": {
     "end_time": "2025-05-17T15:53:46.861184Z",
     "start_time": "2025-05-17T15:53:46.777361Z"
    }
   },
   "source": [
    "from utils.loaddata import load_csv\n",
    "import os\n",
    "filepath = os.path.join(\"data\", \"USDJPY60.csv\")\n",
    "\n",
    "df = load_csv(filepath)"
   ],
   "outputs": [],
   "execution_count": 2
  },
  {
   "metadata": {
    "ExecuteTime": {
     "end_time": "2025-05-17T15:53:48.250533Z",
     "start_time": "2025-05-17T15:53:48.234785Z"
    }
   },
   "cell_type": "code",
   "source": "df.head(5)",
   "id": "27c70e7ce7c3d92d",
   "outputs": [
    {
     "data": {
      "text/plain": [
       "           datetime    open    high     low   close  volume\n",
       "0  2009-01-20 14:00  90.450  90.585  90.145  90.160   26234\n",
       "1  2009-01-20 15:00  90.165  90.175  90.045  90.135   30800\n",
       "2  2009-01-20 16:00  90.145  90.250  89.990  90.200   30626\n",
       "3  2009-01-20 17:00  90.200  90.250  89.825  90.115   30172\n",
       "4  2009-01-20 18:00  90.110  90.155  89.970  89.970   26322"
      ],
      "text/html": [
       "<div>\n",
       "<style scoped>\n",
       "    .dataframe tbody tr th:only-of-type {\n",
       "        vertical-align: middle;\n",
       "    }\n",
       "\n",
       "    .dataframe tbody tr th {\n",
       "        vertical-align: top;\n",
       "    }\n",
       "\n",
       "    .dataframe thead th {\n",
       "        text-align: right;\n",
       "    }\n",
       "</style>\n",
       "<table border=\"1\" class=\"dataframe\">\n",
       "  <thead>\n",
       "    <tr style=\"text-align: right;\">\n",
       "      <th></th>\n",
       "      <th>datetime</th>\n",
       "      <th>open</th>\n",
       "      <th>high</th>\n",
       "      <th>low</th>\n",
       "      <th>close</th>\n",
       "      <th>volume</th>\n",
       "    </tr>\n",
       "  </thead>\n",
       "  <tbody>\n",
       "    <tr>\n",
       "      <th>0</th>\n",
       "      <td>2009-01-20 14:00</td>\n",
       "      <td>90.450</td>\n",
       "      <td>90.585</td>\n",
       "      <td>90.145</td>\n",
       "      <td>90.160</td>\n",
       "      <td>26234</td>\n",
       "    </tr>\n",
       "    <tr>\n",
       "      <th>1</th>\n",
       "      <td>2009-01-20 15:00</td>\n",
       "      <td>90.165</td>\n",
       "      <td>90.175</td>\n",
       "      <td>90.045</td>\n",
       "      <td>90.135</td>\n",
       "      <td>30800</td>\n",
       "    </tr>\n",
       "    <tr>\n",
       "      <th>2</th>\n",
       "      <td>2009-01-20 16:00</td>\n",
       "      <td>90.145</td>\n",
       "      <td>90.250</td>\n",
       "      <td>89.990</td>\n",
       "      <td>90.200</td>\n",
       "      <td>30626</td>\n",
       "    </tr>\n",
       "    <tr>\n",
       "      <th>3</th>\n",
       "      <td>2009-01-20 17:00</td>\n",
       "      <td>90.200</td>\n",
       "      <td>90.250</td>\n",
       "      <td>89.825</td>\n",
       "      <td>90.115</td>\n",
       "      <td>30172</td>\n",
       "    </tr>\n",
       "    <tr>\n",
       "      <th>4</th>\n",
       "      <td>2009-01-20 18:00</td>\n",
       "      <td>90.110</td>\n",
       "      <td>90.155</td>\n",
       "      <td>89.970</td>\n",
       "      <td>89.970</td>\n",
       "      <td>26322</td>\n",
       "    </tr>\n",
       "  </tbody>\n",
       "</table>\n",
       "</div>"
      ]
     },
     "execution_count": 3,
     "metadata": {},
     "output_type": "execute_result"
    }
   ],
   "execution_count": 3
  },
  {
   "metadata": {
    "ExecuteTime": {
     "end_time": "2025-05-17T15:53:50.237846Z",
     "start_time": "2025-05-17T15:53:50.232138Z"
    }
   },
   "cell_type": "code",
   "source": [
    "import utils.indicator as ind\n",
    "sma = ind.SMA(df.head(100).close)"
   ],
   "id": "385a0e84a4c150be",
   "outputs": [],
   "execution_count": 4
  },
  {
   "metadata": {
    "ExecuteTime": {
     "end_time": "2025-05-17T15:54:01.528883Z",
     "start_time": "2025-05-17T15:54:01.522026Z"
    }
   },
   "cell_type": "code",
   "source": "sma.out_real",
   "id": "ecb3be8a760c0579",
   "outputs": [
    {
     "data": {
      "text/plain": [
       "0          NaN\n",
       "1          NaN\n",
       "2          NaN\n",
       "3          NaN\n",
       "4          NaN\n",
       "        ...   \n",
       "95    88.95775\n",
       "96    88.97325\n",
       "97    89.01450\n",
       "98    89.03550\n",
       "99    89.05125\n",
       "Length: 100, dtype: float64"
      ]
     },
     "execution_count": 6,
     "metadata": {},
     "output_type": "execute_result"
    }
   ],
   "execution_count": 6
  },
  {
   "metadata": {},
   "cell_type": "code",
   "outputs": [],
   "execution_count": null,
   "source": "",
   "id": "5cc371998624a683"
  }
 ],
 "metadata": {
  "kernelspec": {
   "display_name": "Python 3",
   "language": "python",
   "name": "python3"
  },
  "language_info": {
   "codemirror_mode": {
    "name": "ipython",
    "version": 2
   },
   "file_extension": ".py",
   "mimetype": "text/x-python",
   "name": "python",
   "nbconvert_exporter": "python",
   "pygments_lexer": "ipython2",
   "version": "2.7.6"
  }
 },
 "nbformat": 4,
 "nbformat_minor": 5
}
